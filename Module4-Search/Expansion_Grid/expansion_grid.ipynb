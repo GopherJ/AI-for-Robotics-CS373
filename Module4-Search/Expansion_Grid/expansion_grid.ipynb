{
 "cells": [
  {
   "cell_type": "code",
   "execution_count": 1,
   "metadata": {},
   "outputs": [
    {
     "data": {
      "text/plain": [
       "[[0, 2, -1, 11, 15, 18],\n",
       " [1, 3, 6, 8, 13, 16],\n",
       " [4, 5, -1, 12, -1, 19],\n",
       " [7, 9, -1, 17, -1, 21],\n",
       " [10, 14, -1, 20, -1, 22]]"
      ]
     },
     "execution_count": 1,
     "metadata": {},
     "output_type": "execute_result"
    }
   ],
   "source": [
    "# Author: zhao-zh10\n",
    "# -----------\n",
    "# User Instructions:\n",
    "# \n",
    "# Modify the function search so that it returns\n",
    "# a table of values called expand. This table\n",
    "# will keep track of which step each node was\n",
    "# expanded.\n",
    "#\n",
    "# Make sure that the initial cell in the grid \n",
    "# you return has the value 0.\n",
    "# ----------\n",
    "\n",
    "grid = [[0, 0, 1, 0, 0, 0],\n",
    "        [0, 0, 0, 0, 0, 0],\n",
    "        [0, 0, 1, 0, 1, 0],\n",
    "        [0, 0, 1, 0, 1, 0],\n",
    "        [0, 0, 1, 0, 1, 0]]\n",
    "init = [0, 0]\n",
    "goal = [len(grid)-1, len(grid[0])-1]\n",
    "cost = 1\n",
    "\n",
    "delta = [[-1, 0], # go up\n",
    "         [ 0,-1], # go left\n",
    "         [ 1, 0], # go down\n",
    "         [ 0, 1]] # go right\n",
    "\n",
    "delta_name = ['^', '<', 'v', '>']\n",
    "\n",
    "\n",
    "# The Udacity Sebastian Thrun's solution version.\n",
    "def search(grid, init, goal, cost, debug_flag=False):\n",
    "    # ----------------------------------------\n",
    "    # modify code below\n",
    "    # ----------------------------------------\n",
    "    # open list elements are of the type: [g, x, y]\n",
    "    closed = [[0 for row in range(len(grid[0]))] for col in range(len(grid))]\n",
    "    closed[init[0]][init[1]] = 1\n",
    "    expand = [[-1 for row in range(len(grid[0]))] for col in range(len(grid))]\n",
    "    expand[init[0]][init[1]] = 0\n",
    "    \n",
    "    x = init[0]\n",
    "    y = init[1]\n",
    "    g = 0\n",
    "    \n",
    "    open = [[g, x, y]]\n",
    "    count = 0\n",
    "    \n",
    "    found = False # flag that is set when search complete\n",
    "    resign = False # flag set if we can't find expand\n",
    "    \n",
    "    if debug_flag is True:\n",
    "        print('initial open list:')\n",
    "        for i in range(len(open)):\n",
    "            print(\"      \", open[i])\n",
    "        print(\"----\")\n",
    "    while found is False and resign is False:\n",
    "        # check if we still have elements on the open list\n",
    "        if len(open) == 0:\n",
    "            resign = True\n",
    "            if debug_flag is True:\n",
    "                print('Fail')\n",
    "                print('###### Search terminated without success')\n",
    "            return expand\n",
    "        else:\n",
    "            # remove node from list\n",
    "            open.sort()\n",
    "            open.reverse()\n",
    "            next = open.pop()\n",
    "            if debug_flag is True:\n",
    "                print('take list item')\n",
    "                print(next)\n",
    "            x = next[1]\n",
    "            y = next[2]\n",
    "            g = next[0]\n",
    "            \n",
    "            # check if we are done\n",
    "            if x == goal[0] and y == goal[1]:\n",
    "                found = True\n",
    "                if debug_flag is True:\n",
    "                    print(next)\n",
    "                    print('###### Search successful')\n",
    "                return expand\n",
    "                \n",
    "            else:\n",
    "                # expand winning element and add to new open list\n",
    "                for i in range(len(delta)):\n",
    "                    x2 = x + delta[i][0]\n",
    "                    y2 = y + delta[i][1]\n",
    "                    if x2 >= 0 and x2 < len(grid) and y2 >= 0 and y2 < len(grid[0]):\n",
    "                        if closed[x2][y2] == 0 and grid[x2][y2] == 0:\n",
    "                            g2 = g + cost\n",
    "                            open.append([g2, x2, y2])\n",
    "                            closed[x2][y2] = 1\n",
    "                            count += 1\n",
    "                            expand[x2][y2] = count\n",
    "                            if debug_flag is True:\n",
    "                                print('append list item')\n",
    "                                print([g2, x2, y2])\n",
    "                if debug_flag is True:\n",
    "                    print('new open list:')\n",
    "                    for i in range(len(open)):\n",
    "                        print('     ', open[i])\n",
    "                    print('----')\n",
    "                    \n",
    "                    \n",
    "search(grid, init, goal, cost)"
   ]
  },
  {
   "cell_type": "code",
   "execution_count": 2,
   "metadata": {},
   "outputs": [
    {
     "name": "stdout",
     "output_type": "stream",
     "text": [
      "Correct! \n"
     ]
    }
   ],
   "source": [
    "##### Do Not Modify ######\n",
    "\n",
    "import grader\n",
    "from test import delta, delta_name\n",
    "\n",
    "try:\n",
    "    response = grader.run_grader(search)\n",
    "    print(response)    \n",
    "    \n",
    "except Exception as err:\n",
    "    print(str(err))"
   ]
  },
  {
   "cell_type": "code",
   "execution_count": null,
   "metadata": {},
   "outputs": [],
   "source": []
  }
 ],
 "metadata": {
  "kernelspec": {
   "display_name": "Python 3",
   "language": "python",
   "name": "python3"
  },
  "language_info": {
   "codemirror_mode": {
    "name": "ipython",
    "version": 3
   },
   "file_extension": ".py",
   "mimetype": "text/x-python",
   "name": "python",
   "nbconvert_exporter": "python",
   "pygments_lexer": "ipython3",
   "version": "3.6.3"
  }
 },
 "nbformat": 4,
 "nbformat_minor": 2
}
